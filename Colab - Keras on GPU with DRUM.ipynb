{
  "nbformat": 4,
  "nbformat_minor": 0,
  "metadata": {
    "colab": {
      "name": "Custom Keras on GPU with DRUM and Monitoring Agent (DataRobot)",
      "provenance": [],
      "collapsed_sections": [],
      "toc_visible": true,
      "include_colab_link": true
    },
    "kernelspec": {
      "name": "python3",
      "display_name": "Python 3"
    },
    "accelerator": "GPU"
  },
  "cells": [
    {
      "cell_type": "markdown",
      "metadata": {
        "id": "view-in-github",
        "colab_type": "text"
      },
      "source": [
        "<a href=\"https://colab.research.google.com/github/timsetsfire/odsc-ml-drum/blob/main/Colab%20-%20Keras%20on%20GPU%20with%20DRUM.ipynb\" target=\"_parent\"><img src=\"https://colab.research.google.com/assets/colab-badge.svg\" alt=\"Open In Colab\"/></a>"
      ]
    },
    {
      "cell_type": "markdown",
      "metadata": {
        "id": "1_nxQLKVeYTy"
      },
      "source": [
        "# Keras, Drum, and MLOps Agent\n",
        "\n",
        " The point of this Notebook is to leverage GPUs for inference scoring for DNN models served up via [DRUM](www.github.com/datarobot/datarobot-user-models) all while monitoring said models via DataRobot MLOps Monitoring Agents "
      ]
    },
    {
      "cell_type": "markdown",
      "metadata": {
        "id": "qqDZEQCAYP3D"
      },
      "source": [
        "## Setup\n",
        "\n",
        "In order to walk through this notebook, we must set up the environment.  \n",
        "\n",
        "This will entail\n",
        "* installing `git-lfs`\n",
        "* cloning `datarobot/datarobot-user-models` repo\n",
        "* installing a bunch of python libraries\n",
        "* for the prediction server, simplest route is to leverage flask.  If you choose to use uswgi + nginx, you will have to modify the uswgi ini file.\n",
        "* turn on gpu (go to Edit -> Notebook Settings -> Hardware accelerator -> GPU)\n",
        "\n",
        "For monitoring the model with DataRobot MLOps Agents, \n",
        "1. You need a DataRobot account and API key.  Sign up at: https://www.datarobot.com/lp/trial/ - for referral, put down Tim Whittaker\n",
        "2. Get the MLOps agent tar file, found under Developer Tools in the DataRobot App (Click on the far right orange person icon)\n",
        "3. Copy the MLOps agent tar file and put it into your google drive\n",
        "\n",
        "if you are just reviewing this notebook, jump ahead to [Test Scoring with Keras Model](https://colab.research.google.com/drive/1yGQgvz1tDQMwL0gLD-7HlDSEVV3Kk8R1#)"
      ]
    },
    {
      "cell_type": "markdown",
      "metadata": {
        "id": "VCYeAVxmsW-Z"
      },
      "source": [
        "### Install `nginx` and `git-lfs`"
      ]
    },
    {
      "cell_type": "code",
      "metadata": {
        "id": "2pq_uKep_P-p",
        "colab": {
          "base_uri": "https://localhost:8080/"
        },
        "outputId": "6552885c-028c-4fc7-a703-9d3bdf49950d"
      },
      "source": [
        "!sudo apt-get install nginx > /dev/null"
      ],
      "execution_count": 2,
      "outputs": [
        {
          "output_type": "stream",
          "text": [
            "debconf: unable to initialize frontend: Dialog\n",
            "debconf: (No usable dialog-like program is installed, so the dialog based frontend cannot be used. at /usr/share/perl5/Debconf/FrontEnd/Dialog.pm line 76, <> line 14.)\n",
            "debconf: falling back to frontend: Readline\n",
            "debconf: unable to initialize frontend: Readline\n",
            "debconf: (This frontend requires a controlling tty.)\n",
            "debconf: falling back to frontend: Teletype\n",
            "dpkg-preconfigure: unable to re-open stdin: \n"
          ],
          "name": "stdout"
        }
      ]
    },
    {
      "cell_type": "code",
      "metadata": {
        "id": "V0FI1AFPa9Si",
        "colab": {
          "base_uri": "https://localhost:8080/"
        },
        "outputId": "947ca67f-675f-4458-df2f-d6356eb2b659"
      },
      "source": [
        "!sudo apt-get install git-lfs > /dev/null"
      ],
      "execution_count": 3,
      "outputs": [
        {
          "output_type": "stream",
          "text": [
            "debconf: unable to initialize frontend: Dialog\n",
            "debconf: (No usable dialog-like program is installed, so the dialog based frontend cannot be used. at /usr/share/perl5/Debconf/FrontEnd/Dialog.pm line 76, <> line 1.)\n",
            "debconf: falling back to frontend: Readline\n",
            "debconf: unable to initialize frontend: Readline\n",
            "debconf: (This frontend requires a controlling tty.)\n",
            "debconf: falling back to frontend: Teletype\n",
            "dpkg-preconfigure: unable to re-open stdin: \n"
          ],
          "name": "stdout"
        }
      ]
    },
    {
      "cell_type": "markdown",
      "metadata": {
        "id": "Hu5mgnqlkOxH"
      },
      "source": [
        "### Install required packages to for DRUM to use Keras models\n",
        "\n",
        "this will utilize `drum==1.4.15`"
      ]
    },
    {
      "cell_type": "code",
      "metadata": {
        "id": "ZxEJMsH_oeYy",
        "colab": {
          "base_uri": "https://localhost:8080/"
        },
        "outputId": "0010f47f-8910-4207-e6a2-f3681e5994c6"
      },
      "source": [
        "!pip install datarobot-drum -q"
      ],
      "execution_count": 1,
      "outputs": [
        {
          "output_type": "stream",
          "text": [
            "\u001b[K     |████████████████████████████████| 8.7MB 7.4MB/s \n",
            "\u001b[K     |████████████████████████████████| 51kB 8.7MB/s \n",
            "\u001b[K     |████████████████████████████████| 276kB 54.1MB/s \n",
            "\u001b[K     |████████████████████████████████| 204kB 58.3MB/s \n",
            "\u001b[K     |████████████████████████████████| 17.7MB 205kB/s \n",
            "\u001b[K     |████████████████████████████████| 153kB 50.5MB/s \n",
            "\u001b[K     |████████████████████████████████| 788kB 53.2MB/s \n",
            "\u001b[K     |████████████████████████████████| 112kB 60.4MB/s \n",
            "\u001b[K     |████████████████████████████████| 61kB 10.2MB/s \n",
            "\u001b[K     |████████████████████████████████| 204kB 40.8MB/s \n",
            "\u001b[K     |████████████████████████████████| 808kB 56.8MB/s \n",
            "\u001b[K     |████████████████████████████████| 552kB 57.5MB/s \n",
            "\u001b[?25h  Building wheel for memory-profiler (setup.py) ... \u001b[?25l\u001b[?25hdone\n",
            "  Building wheel for strictyaml (setup.py) ... \u001b[?25l\u001b[?25hdone\n",
            "  Building wheel for progress (setup.py) ... \u001b[?25l\u001b[?25hdone\n",
            "  Building wheel for uwsgi (setup.py) ... \u001b[?25l\u001b[?25hdone\n",
            "\u001b[31mERROR: datascience 0.10.6 has requirement folium==0.2.1, but you'll have folium 0.8.3 which is incompatible.\u001b[0m\n"
          ],
          "name": "stdout"
        }
      ]
    },
    {
      "cell_type": "code",
      "metadata": {
        "id": "ogR2iRkIj4uE",
        "outputId": "9cc3a9e1-ca48-4460-d239-c94e26fbe6df",
        "colab": {
          "base_uri": "https://localhost:8080/"
        }
      },
      "source": [
        "!git clone https://github.com/datarobot/datarobot-user-models.git"
      ],
      "execution_count": 6,
      "outputs": [
        {
          "output_type": "stream",
          "text": [
            "Cloning into 'datarobot-user-models'...\n",
            "remote: Enumerating objects: 258, done.\u001b[K\n",
            "remote: Counting objects: 100% (258/258), done.\u001b[K\n",
            "remote: Compressing objects: 100% (156/156), done.\u001b[K\n",
            "remote: Total 6103 (delta 147), reused 157 (delta 98), pack-reused 5845\u001b[K\n",
            "Receiving objects: 100% (6103/6103), 120.70 MiB | 35.16 MiB/s, done.\n",
            "Resolving deltas: 100% (4029/4029), done.\n"
          ],
          "name": "stdout"
        }
      ]
    },
    {
      "cell_type": "code",
      "metadata": {
        "id": "zYShcIByarXb",
        "colab": {
          "base_uri": "https://localhost:8080/"
        },
        "outputId": "ae561d11-f5b6-4b69-be81-d9b1fdef1769"
      },
      "source": [
        "# !pip install -q --upgrade-strategy eager --no-cache-dir --prefer-binary -r /content/datarobot-user-models/public_dropin_environments/python3_keras/dr_requirements.txt\n",
        "!pip install -q -r /content/datarobot-user-models/public_dropin_environments/python3_keras/requirements.txt --no-cache-dir\n",
        "!pip install -q requests_futures;"
      ],
      "execution_count": 7,
      "outputs": [
        {
          "output_type": "stream",
          "text": [
            "\u001b[K     |████████████████████████████████| 516.2MB 1.3MB/s \n",
            "\u001b[K     |████████████████████████████████| 20.1MB 1.3MB/s \n",
            "\u001b[K     |████████████████████████████████| 10.5MB 61.9MB/s \n",
            "\u001b[K     |████████████████████████████████| 6.9MB 57.0MB/s \n",
            "\u001b[K     |████████████████████████████████| 2.1MB 53.6MB/s \n",
            "\u001b[K     |████████████████████████████████| 460kB 54.7MB/s \n",
            "\u001b[K     |████████████████████████████████| 3.0MB 56.6MB/s \n",
            "\u001b[31mERROR: datascience 0.10.6 has requirement folium==0.2.1, but you'll have folium 0.8.3 which is incompatible.\u001b[0m\n",
            "\u001b[31mERROR: albumentations 0.1.12 has requirement imgaug<0.2.7,>=0.2.5, but you'll have imgaug 0.2.9 which is incompatible.\u001b[0m\n",
            "\u001b[?25h"
          ],
          "name": "stdout"
        }
      ]
    },
    {
      "cell_type": "markdown",
      "metadata": {
        "id": "cE9BMZmhdEr8"
      },
      "source": [
        "# __Restart runtime!!__\n",
        "\n",
        "If you don't do this nothign will work"
      ]
    },
    {
      "cell_type": "code",
      "metadata": {
        "id": "XKoAxLdYn33W",
        "colab": {
          "base_uri": "https://localhost:8080/"
        },
        "outputId": "e2b47e35-5ac2-4524-f5cb-102ca62dc520"
      },
      "source": [
        "!drum --version"
      ],
      "execution_count": 8,
      "outputs": [
        {
          "output_type": "stream",
          "text": [
            "drum 1.4.15\n"
          ],
          "name": "stdout"
        }
      ]
    },
    {
      "cell_type": "code",
      "metadata": {
        "id": "XqvWQidMryvC",
        "colab": {
          "base_uri": "https://localhost:8080/"
        },
        "outputId": "1ac79573-c89c-4002-d87b-dd602c09c901"
      },
      "source": [
        "## load the model and review\n",
        "import sys\n",
        "sys.path.append('/content/datarobot-user-models/model_templates/inference/python3_keras_vizai_joblib')\n",
        "from model_utils import *\n",
        "pipeline = deserialize_estimator_pipeline(\"/content/datarobot-user-models/model_templates/inference/python3_keras_vizai_joblib\")"
      ],
      "execution_count": 9,
      "outputs": [
        {
          "output_type": "stream",
          "text": [
            "WARNING:tensorflow:`input_shape` is undefined or non-square, or `rows` is not in [96, 128, 160, 192, 224]. Weights for input shape (224, 224) will be loaded as the default.\n",
            "Downloading data from https://storage.googleapis.com/tensorflow/keras-applications/mobilenet_v2/mobilenet_v2_weights_tf_dim_ordering_tf_kernels_1.0_224_no_top.h5\n",
            "9412608/9406464 [==============================] - 0s 0us/step\n",
            "WARNING:tensorflow:No training configuration found in the save file, so the model was *not* compiled. Compile it manually.\n"
          ],
          "name": "stdout"
        }
      ]
    },
    {
      "cell_type": "code",
      "metadata": {
        "id": "SP4RLjHqsTVS",
        "colab": {
          "base_uri": "https://localhost:8080/"
        },
        "outputId": "556f5d3b-072c-4645-bd8f-1415f2a7739c"
      },
      "source": [
        "pipeline.steps[-1][1].summary()"
      ],
      "execution_count": 10,
      "outputs": [
        {
          "output_type": "stream",
          "text": [
            "Model: \"sequential\"\n",
            "_________________________________________________________________\n",
            "Layer (type)                 Output Shape              Param #   \n",
            "=================================================================\n",
            "global_average_pooling2d (Gl multiple                  0         \n",
            "_________________________________________________________________\n",
            "dense (Dense)                multiple                  1281      \n",
            "=================================================================\n",
            "Total params: 1,281\n",
            "Trainable params: 1,281\n",
            "Non-trainable params: 0\n",
            "_________________________________________________________________\n"
          ],
          "name": "stdout"
        }
      ]
    },
    {
      "cell_type": "markdown",
      "metadata": {
        "id": "t4p0zDG-VWJP"
      },
      "source": [
        "# Test scoring with Keras model with DRUM\n",
        "<a id=\"setup_complete\"></a>\n",
        "\n",
        "Next snippet is to test scoring.  Want to review the log and ensure that a gpu device is being attached to aid the dnn inference.  \n",
        "\n",
        "With GPUs takes about 10 seconds, without takes much longer"
      ]
    },
    {
      "cell_type": "code",
      "metadata": {
        "id": "C_OOeqEx6hqH",
        "colab": {
          "base_uri": "https://localhost:8080/"
        },
        "outputId": "288875c5-c3ce-46c6-adc9-135f48aafe27"
      },
      "source": [
        "!drum score --code-dir /content/datarobot-user-models/model_templates/inference/python3_keras_vizai_joblib \\\\\n",
        "--input /content/datarobot-user-models/tests/testdata/cats_dogs_small_training.csv --target-type binary --positive-class-label dog --negative-class-label cat --verbose"
      ],
      "execution_count": 11,
      "outputs": [
        {
          "output_type": "stream",
          "text": [
            "Detected score mode\n",
            "Detected /content/datarobot-user-models/model_templates/inference/python3_keras_vizai_joblib/custom.py .. trying to load hooks\n",
            "2021-02-19 13:56:24,495 WARNING tensorflow:  `input_shape` is undefined or non-square, or `rows` is not in [96, 128, 160, 192, 224]. Weights for input shape (224, 224) will be loaded as the default.\n",
            "2021-02-19 13:56:24.513691: I tensorflow/stream_executor/platform/default/dso_loader.cc:44] Successfully opened dynamic library libcuda.so.1\n",
            "2021-02-19 13:56:24.519834: I tensorflow/stream_executor/cuda/cuda_gpu_executor.cc:981] successful NUMA node read from SysFS had negative value (-1), but there must be at least one NUMA node, so returning NUMA node zero\n",
            "2021-02-19 13:56:24.520408: I tensorflow/core/common_runtime/gpu/gpu_device.cc:1561] Found device 0 with properties: \n",
            "pciBusID: 0000:00:04.0 name: Tesla T4 computeCapability: 7.5\n",
            "coreClock: 1.59GHz coreCount: 40 deviceMemorySize: 14.75GiB deviceMemoryBandwidth: 298.08GiB/s\n",
            "2021-02-19 13:56:24.520651: I tensorflow/stream_executor/platform/default/dso_loader.cc:44] Successfully opened dynamic library libcudart.so.10.1\n",
            "2021-02-19 13:56:24.522203: I tensorflow/stream_executor/platform/default/dso_loader.cc:44] Successfully opened dynamic library libcublas.so.10\n",
            "2021-02-19 13:56:24.528040: I tensorflow/stream_executor/platform/default/dso_loader.cc:44] Successfully opened dynamic library libcufft.so.10\n",
            "2021-02-19 13:56:24.528356: I tensorflow/stream_executor/platform/default/dso_loader.cc:44] Successfully opened dynamic library libcurand.so.10\n",
            "2021-02-19 13:56:24.529929: I tensorflow/stream_executor/platform/default/dso_loader.cc:44] Successfully opened dynamic library libcusolver.so.10\n",
            "2021-02-19 13:56:24.531655: I tensorflow/stream_executor/platform/default/dso_loader.cc:44] Successfully opened dynamic library libcusparse.so.10\n",
            "2021-02-19 13:56:24.535275: I tensorflow/stream_executor/platform/default/dso_loader.cc:44] Successfully opened dynamic library libcudnn.so.7\n",
            "2021-02-19 13:56:24.535395: I tensorflow/stream_executor/cuda/cuda_gpu_executor.cc:981] successful NUMA node read from SysFS had negative value (-1), but there must be at least one NUMA node, so returning NUMA node zero\n",
            "2021-02-19 13:56:24.536000: I tensorflow/stream_executor/cuda/cuda_gpu_executor.cc:981] successful NUMA node read from SysFS had negative value (-1), but there must be at least one NUMA node, so returning NUMA node zero\n",
            "2021-02-19 13:56:24.536511: I tensorflow/core/common_runtime/gpu/gpu_device.cc:1703] Adding visible gpu devices: 0\n",
            "2021-02-19 13:56:24.536729: I tensorflow/core/platform/cpu_feature_guard.cc:143] Your CPU supports instructions that this TensorFlow binary was not compiled to use: AVX2 FMA\n",
            "2021-02-19 13:56:24.542031: I tensorflow/core/platform/profile_utils/cpu_utils.cc:102] CPU Frequency: 2199995000 Hz\n",
            "2021-02-19 13:56:24.542219: I tensorflow/compiler/xla/service/service.cc:168] XLA service 0x1954bc0 initialized for platform Host (this does not guarantee that XLA will be used). Devices:\n",
            "2021-02-19 13:56:24.542250: I tensorflow/compiler/xla/service/service.cc:176]   StreamExecutor device (0): Host, Default Version\n",
            "2021-02-19 13:56:24.628323: I tensorflow/stream_executor/cuda/cuda_gpu_executor.cc:981] successful NUMA node read from SysFS had negative value (-1), but there must be at least one NUMA node, so returning NUMA node zero\n",
            "2021-02-19 13:56:24.629080: I tensorflow/compiler/xla/service/service.cc:168] XLA service 0x1954d80 initialized for platform CUDA (this does not guarantee that XLA will be used). Devices:\n",
            "2021-02-19 13:56:24.629117: I tensorflow/compiler/xla/service/service.cc:176]   StreamExecutor device (0): Tesla T4, Compute Capability 7.5\n",
            "2021-02-19 13:56:24.629319: I tensorflow/stream_executor/cuda/cuda_gpu_executor.cc:981] successful NUMA node read from SysFS had negative value (-1), but there must be at least one NUMA node, so returning NUMA node zero\n",
            "2021-02-19 13:56:24.629869: I tensorflow/core/common_runtime/gpu/gpu_device.cc:1561] Found device 0 with properties: \n",
            "pciBusID: 0000:00:04.0 name: Tesla T4 computeCapability: 7.5\n",
            "coreClock: 1.59GHz coreCount: 40 deviceMemorySize: 14.75GiB deviceMemoryBandwidth: 298.08GiB/s\n",
            "2021-02-19 13:56:24.629939: I tensorflow/stream_executor/platform/default/dso_loader.cc:44] Successfully opened dynamic library libcudart.so.10.1\n",
            "2021-02-19 13:56:24.629969: I tensorflow/stream_executor/platform/default/dso_loader.cc:44] Successfully opened dynamic library libcublas.so.10\n",
            "2021-02-19 13:56:24.629994: I tensorflow/stream_executor/platform/default/dso_loader.cc:44] Successfully opened dynamic library libcufft.so.10\n",
            "2021-02-19 13:56:24.630018: I tensorflow/stream_executor/platform/default/dso_loader.cc:44] Successfully opened dynamic library libcurand.so.10\n",
            "2021-02-19 13:56:24.630041: I tensorflow/stream_executor/platform/default/dso_loader.cc:44] Successfully opened dynamic library libcusolver.so.10\n",
            "2021-02-19 13:56:24.630064: I tensorflow/stream_executor/platform/default/dso_loader.cc:44] Successfully opened dynamic library libcusparse.so.10\n",
            "2021-02-19 13:56:24.630088: I tensorflow/stream_executor/platform/default/dso_loader.cc:44] Successfully opened dynamic library libcudnn.so.7\n",
            "2021-02-19 13:56:24.630166: I tensorflow/stream_executor/cuda/cuda_gpu_executor.cc:981] successful NUMA node read from SysFS had negative value (-1), but there must be at least one NUMA node, so returning NUMA node zero\n",
            "2021-02-19 13:56:24.630732: I tensorflow/stream_executor/cuda/cuda_gpu_executor.cc:981] successful NUMA node read from SysFS had negative value (-1), but there must be at least one NUMA node, so returning NUMA node zero\n",
            "2021-02-19 13:56:24.631341: I tensorflow/core/common_runtime/gpu/gpu_device.cc:1703] Adding visible gpu devices: 0\n",
            "2021-02-19 13:56:24.631439: I tensorflow/stream_executor/platform/default/dso_loader.cc:44] Successfully opened dynamic library libcudart.so.10.1\n",
            "2021-02-19 13:56:24.632708: I tensorflow/core/common_runtime/gpu/gpu_device.cc:1102] Device interconnect StreamExecutor with strength 1 edge matrix:\n",
            "2021-02-19 13:56:24.632752: I tensorflow/core/common_runtime/gpu/gpu_device.cc:1108]      0 \n",
            "2021-02-19 13:56:24.632765: I tensorflow/core/common_runtime/gpu/gpu_device.cc:1121] 0:   N \n",
            "2021-02-19 13:56:24.632908: I tensorflow/stream_executor/cuda/cuda_gpu_executor.cc:981] successful NUMA node read from SysFS had negative value (-1), but there must be at least one NUMA node, so returning NUMA node zero\n",
            "2021-02-19 13:56:24.633484: I tensorflow/stream_executor/cuda/cuda_gpu_executor.cc:981] successful NUMA node read from SysFS had negative value (-1), but there must be at least one NUMA node, so returning NUMA node zero\n",
            "2021-02-19 13:56:24.634031: W tensorflow/core/common_runtime/gpu/gpu_bfc_allocator.cc:39] Overriding allow_growth setting because the TF_FORCE_GPU_ALLOW_GROWTH environment variable is set. Original config value was 0.\n",
            "2021-02-19 13:56:24.634078: I tensorflow/core/common_runtime/gpu/gpu_device.cc:1247] Created TensorFlow device (/job:localhost/replica:0/task:0/device:GPU:0 with 13871 MB memory) -> physical GPU (device: 0, name: Tesla T4, pci bus id: 0000:00:04.0, compute capability: 7.5)\n",
            "2021-02-19 13:56:27,052 WARNING tensorflow:  No training configuration found in the save file, so the model was *not* compiled. Compile it manually.\n",
            "\u001b[32m \u001b[0m\n",
            "\u001b[32m \u001b[0m\n",
            "\u001b[32m============================================================\u001b[0m\n",
            "\u001b[32mComponent: generic_predictor\u001b[0m\n",
            "\u001b[32mLanguage:  Python\u001b[0m\n",
            "\u001b[32mOutput:\u001b[0m\n",
            "\u001b[32m------------------------------------------------------------\u001b[0m\n",
            "2021-02-19 13:56:29.011445: I tensorflow/stream_executor/platform/default/dso_loader.cc:44] Successfully opened dynamic library libcudnn.so.7\n",
            "2021-02-19 13:56:33.938115: I tensorflow/stream_executor/platform/default/dso_loader.cc:44] Successfully opened dynamic library libcublas.so.10\n",
            "\u001b[32m------------------------------------------------------------\u001b[0m\n",
            "\u001b[32mRuntime:    9.1 sec\u001b[0m\n",
            "\u001b[32mNR outputs: 0\u001b[0m\n",
            "\u001b[32m============================================================\u001b[0m\n",
            "\u001b[32m \u001b[0m\n",
            "          dog       cat\n",
            "0    0.533860  0.466140\n",
            "1    0.553493  0.446508\n",
            "2    0.575364  0.424636\n",
            "3    0.558172  0.441828\n",
            "4    0.586502  0.413498\n",
            "..        ...       ...\n",
            "195  0.609228  0.390772\n",
            "196  0.598780  0.401220\n",
            "197  0.545081  0.454919\n",
            "198  0.578830  0.421170\n",
            "199  0.619679  0.380321\n",
            "\n",
            "[200 rows x 2 columns]\n"
          ],
          "name": "stdout"
        }
      ]
    },
    {
      "cell_type": "markdown",
      "metadata": {
        "id": "ti_ZeZ7kVguQ"
      },
      "source": [
        "# Start the inference server locally"
      ]
    },
    {
      "cell_type": "markdown",
      "metadata": {
        "id": "dD5NFt-zQyQF"
      },
      "source": [
        "## If using uwsgi + nginx\n",
        "\n",
        "Modify uwsgi config\n",
        "\n",
        "When uswgi workers are instantiated, the ini file contains all the environment variables the workers will use when serving up the model.  To leverage GPU, you will need to update \n",
        "\n",
        "`/usr/local/lib/python3.6/dist-packages/mlpiper/components/restful/uwsgi_ini_template.py`\n",
        "\n",
        "you should be able to click the link above to open file editor. \n",
        "\n",
        "The following cell will format all the environment variables so that you can copy the contents from the output of this cell and paste into the ini in the appropriate section.  Look for `# environment variables` around line 44\n",
        "\n",
        "Also you will need to __delete__ `CUDA_VISIBLE_DEVICES` from the ini file\n",
        "\n",
        "Mostly likely don't need all the environment variables listed below, but I'm too lazy to find out.  "
      ]
    },
    {
      "cell_type": "code",
      "metadata": {
        "id": "kWeBtvjXEJ5t",
        "colab": {
          "base_uri": "https://localhost:8080/"
        },
        "outputId": "e9bd4538-2353-4f88-b671-8f8da5f8aa98"
      },
      "source": [
        "import os\n",
        "## the output of this cell should be copy and pasted into the\n",
        "## uwsgi ini file\n",
        "## /usr/local/lib/python3.6/dist-packages/mlpiper/components/restful/uwsgi_ini_template.py\n",
        "## additionaly delete CUDA_VISIBLE_DEVICES variable the ini file\n",
        "for k,v in os.environ.items():\n",
        "  if k not in [\"DATALAB_SETTINGS_OVERRIDES\", \"PYTHONPATH\"]:\n",
        "    print(\"env = {}={}\".format(k,v))"
      ],
      "execution_count": 12,
      "outputs": [
        {
          "output_type": "stream",
          "text": [
            "env = NO_GCE_CHECK=True\n",
            "env = GCS_READ_CACHE_BLOCK_SIZE_MB=16\n",
            "env = CLOUDSDK_CONFIG=/content/.config\n",
            "env = __EGL_VENDOR_LIBRARY_DIRS=/usr/lib64-nvidia:/usr/share/glvnd/egl_vendor.d/\n",
            "env = CUDA_VERSION=10.1.243\n",
            "env = PATH=/usr/local/nvidia/bin:/usr/local/cuda/bin:/usr/local/sbin:/usr/local/bin:/usr/sbin:/usr/bin:/sbin:/bin:/tools/node/bin:/tools/google-cloud-sdk/bin:/opt/bin\n",
            "env = HOME=/root\n",
            "env = LD_LIBRARY_PATH=/usr/lib64-nvidia\n",
            "env = LANG=en_US.UTF-8\n",
            "env = SHELL=/bin/bash\n",
            "env = LIBRARY_PATH=/usr/local/cuda/lib64/stubs\n",
            "env = CUDA_PKG_VERSION=10-1=10.1.243-1\n",
            "env = SHLVL=0\n",
            "env = GCE_METADATA_TIMEOUT=0\n",
            "env = NCCL_VERSION=2.8.3\n",
            "env = NVIDIA_VISIBLE_DEVICES=all\n",
            "env = DEBIAN_FRONTEND=noninteractive\n",
            "env = CUDNN_VERSION=7.6.5.32\n",
            "env = LAST_FORCED_REBUILD=20210203\n",
            "env = JPY_PARENT_PID=50\n",
            "env = ENV=/root/.bashrc\n",
            "env = GLIBCXX_FORCE_NEW=1\n",
            "env = NVIDIA_DRIVER_CAPABILITIES=compute,utility\n",
            "env = TF_FORCE_GPU_ALLOW_GROWTH=true\n",
            "env = LD_PRELOAD=/usr/lib/x86_64-linux-gnu/libtcmalloc.so.4\n",
            "env = NVIDIA_REQUIRE_CUDA=cuda>=10.1 brand=tesla,driver>=396,driver<397 brand=tesla,driver>=410,driver<411 brand=tesla,driver>=418,driver<419\n",
            "env = OLDPWD=/\n",
            "env = HOSTNAME=bee51e65b7e2\n",
            "env = COLAB_GPU=1\n",
            "env = PWD=/\n",
            "env = CLOUDSDK_PYTHON=python3\n",
            "env = GLIBCPP_FORCE_NEW=1\n",
            "env = PYTHONWARNINGS=ignore:::pip._internal.cli.base_command\n",
            "env = TBE_CREDS_ADDR=172.28.0.1:8008\n",
            "env = TERM=xterm-color\n",
            "env = CLICOLOR=1\n",
            "env = PAGER=cat\n",
            "env = GIT_PAGER=cat\n",
            "env = MPLBACKEND=module://ipykernel.pylab.backend_inline\n",
            "env = KMP_DUPLICATE_LIB_OK=True\n",
            "env = KMP_INIT_AT_FORK=FALSE\n"
          ],
          "name": "stdout"
        }
      ]
    },
    {
      "cell_type": "markdown",
      "metadata": {
        "id": "JmS971iweH6t"
      },
      "source": [
        "## Start the Server\n",
        "\n",
        "There are a few keras examples available in the `DRUM` repo.  In what follows, you can eithe ruse the cat dog image classification example, or a keras models which was training on the boston housing prices dataset.\n",
        "\n",
        "The example which follows is running on the cat dog classification model"
      ]
    },
    {
      "cell_type": "code",
      "metadata": {
        "id": "D7BrHC1gYjHD"
      },
      "source": [
        "import subprocess\n",
        "import requests\n",
        "import pandas as pd\n",
        "from io import BytesIO\n",
        "import yaml\n",
        "import time"
      ],
      "execution_count": 13,
      "outputs": []
    },
    {
      "cell_type": "code",
      "metadata": {
        "id": "ieKK7Jh-LWAY",
        "colab": {
          "base_uri": "https://localhost:8080/"
        },
        "outputId": "b056306c-ae37-4616-9574-36f170e6ec8a"
      },
      "source": [
        "!sudo service nginx status"
      ],
      "execution_count": 14,
      "outputs": [
        {
          "output_type": "stream",
          "text": [
            " * nginx is not running\n"
          ],
          "name": "stdout"
        }
      ]
    },
    {
      "cell_type": "markdown",
      "metadata": {
        "id": "nyc5YjS5R3GT"
      },
      "source": [
        "## uSWGI + NGINX vs Flask\n",
        "\n",
        "Starting the server, we'll use `subprocess.Popen`.  Take note below in the `run_server` variable.  If nyou want to use nginx, you should have updated the uwsgi ini file.  Also, you will provide the `--production` and `--max-workers` arguments.  If you don't care and didn't update uwsgi ini, make sure those arguments are commented out and you will leverage flask to serve up the model.  "
      ]
    },
    {
      "cell_type": "code",
      "metadata": {
        "id": "e338X7X4YfPe"
      },
      "source": [
        "%%sh\n",
        "mkdir -p /tmp/ta"
      ],
      "execution_count": 15,
      "outputs": []
    },
    {
      "cell_type": "code",
      "metadata": {
        "id": "GfLXMLk8lzqc"
      },
      "source": [
        "\n",
        "del os.environ[\"MONITOR\"]\n",
        "del os.environ[\"DEPLOYMENT_ID\"]\n",
        "del os.environ[\"MODEL_ID\"]\n",
        "del os.environ[\"MONITOR_SETTINGS\"]"
      ],
      "execution_count": 26,
      "outputs": []
    },
    {
      "cell_type": "code",
      "metadata": {
        "id": "RLp4lbG_sNqz"
      },
      "source": [
        ""
      ],
      "execution_count": 24,
      "outputs": []
    },
    {
      "cell_type": "code",
      "metadata": {
        "id": "jWvksr_sYlEr"
      },
      "source": [
        "run_server = [\"drum\",\n",
        "              \"server\",\n",
        "              \"--code-dir\",\"/content/datarobot-user-models/model_templates/inference/python3_keras_vizai_joblib\", \n",
        "              \"--address\", \"0.0.0.0:1234\", \n",
        "              # \"--production\",   \n",
        "              # \"--max-workers\", \"10\",\n",
        "              \"--target-type\", \"binary\", \n",
        "              \"--positive-class-label\", \"dog\", \n",
        "              \"--negative-class-label\", \"cat\",\n",
        "              \"--show-perf\",\n",
        "              \"--logging-level\", \"info\",\n",
        "              \"--show-stacktrace\",\n",
        "              # \"--monitor\",\n",
        "              \"--verbose\"\n",
        "              ]\n",
        "server = subprocess.Popen(run_server, stdout=subprocess.PIPE)"
      ],
      "execution_count": 31,
      "outputs": []
    },
    {
      "cell_type": "code",
      "metadata": {
        "id": "MIC7btxn_brW",
        "colab": {
          "base_uri": "https://localhost:8080/"
        },
        "outputId": "4ab1587a-8bdb-4be6-eac8-48c2fc58f9e6"
      },
      "source": [
        "!sudo service nginx status"
      ],
      "execution_count": 18,
      "outputs": [
        {
          "output_type": "stream",
          "text": [
            " * nginx is not running\n"
          ],
          "name": "stdout"
        }
      ]
    },
    {
      "cell_type": "code",
      "metadata": {
        "id": "xqi_vtzs_fFU"
      },
      "source": [
        "# server.terminate()\n",
        "# server.stdout.readlines()"
      ],
      "execution_count": 32,
      "outputs": []
    },
    {
      "cell_type": "code",
      "metadata": {
        "id": "B-IFr5LECBlw"
      },
      "source": [
        "# !nginx -s stop"
      ],
      "execution_count": null,
      "outputs": []
    },
    {
      "cell_type": "markdown",
      "metadata": {
        "id": "peFenY-leJo3"
      },
      "source": [
        "## Ping the Server to make sure it is running"
      ]
    },
    {
      "cell_type": "code",
      "metadata": {
        "id": "jmh7SRfQVnTU",
        "colab": {
          "base_uri": "https://localhost:8080/"
        },
        "outputId": "931cef1f-582e-429e-e564-d751eeeb8ea7"
      },
      "source": [
        "## confirm the server is running\n",
        "time.sleep(5) ## snoozing before pinging the server to give it time to actually start\n",
        "print('check status')\n",
        "requests.request(\"GET\", \"http://0.0.0.0:1234/\").content"
      ],
      "execution_count": 33,
      "outputs": [
        {
          "output_type": "stream",
          "text": [
            "check status\n"
          ],
          "name": "stdout"
        },
        {
          "output_type": "execute_result",
          "data": {
            "text/plain": [
              "b'{\"message\":\"OK\"}\\n'"
            ]
          },
          "metadata": {
            "tags": []
          },
          "execution_count": 33
        }
      ]
    },
    {
      "cell_type": "code",
      "metadata": {
        "id": "xOFSFSC5tq67"
      },
      "source": [
        "# ## if you use flask this will return nginx is not running\n",
        "# !sudo service nginx status"
      ],
      "execution_count": null,
      "outputs": []
    },
    {
      "cell_type": "code",
      "metadata": {
        "id": "Pb6ev0dkbGeX"
      },
      "source": [
        "# df = pd.read_csv('/content/datarobot-user-models/tests/testdata/boston_housing_inference.csv')\n",
        "df = pd.read_csv('/content/datarobot-user-models/tests/testdata/cats_dogs_small_training.csv')"
      ],
      "execution_count": 34,
      "outputs": []
    },
    {
      "cell_type": "markdown",
      "metadata": {
        "id": "fO7ADTQZ9HGq"
      },
      "source": [
        "In the cats and dogs dataset, the images have already been encoded.  If you can imagine having a pandas dataframe where each record is a file path, the following would be applied to encode the image.  \n",
        "```\n",
        "def convert_to_base64(image_path):\n",
        "    with open(image_path, \"rb\") as image_file:\n",
        "        encoded_string = base64.b64encode(image_file.read()).decode(\"utf-8\")\n",
        "    return encoded_string\n",
        "\n",
        "df[\"image\"] = df[\"path\"].apply(lambda x: convert_to_base64(x))\n",
        "```"
      ]
    },
    {
      "cell_type": "code",
      "metadata": {
        "id": "iZ-sZcHMYmRx"
      },
      "source": [
        "def score(data):\n",
        "  b_buf = BytesIO()\n",
        "  b_buf.write(data.to_csv(index=False).encode(\"utf-8\"))\n",
        "  b_buf.seek(0)\n",
        "  \n",
        "  url = \"http://localhost:1234/predict/\"\n",
        "  files = [\n",
        "    ('X', b_buf)\n",
        "    # ('X', open('/content/datarobot-user-models/tests/testdata/cats_dogs_small_training.csv', 'rb'))\n",
        "  ]\n",
        "  response = requests.request(\"POST\", url, files = files, timeout=None, verify=False)\n",
        "\n",
        "  return response"
      ],
      "execution_count": 35,
      "outputs": []
    },
    {
      "cell_type": "markdown",
      "metadata": {
        "id": "JOsaTgXOeNMG"
      },
      "source": [
        "## Send data to server for inference"
      ]
    },
    {
      "cell_type": "code",
      "metadata": {
        "id": "yBV2UffU748S",
        "colab": {
          "base_uri": "https://localhost:8080/",
          "height": 204
        },
        "outputId": "2de09049-72a4-4b6e-96f8-dc52f4960295"
      },
      "source": [
        "df[[\"image\"]].head()"
      ],
      "execution_count": 36,
      "outputs": [
        {
          "output_type": "execute_result",
          "data": {
            "text/html": [
              "<div>\n",
              "<style scoped>\n",
              "    .dataframe tbody tr th:only-of-type {\n",
              "        vertical-align: middle;\n",
              "    }\n",
              "\n",
              "    .dataframe tbody tr th {\n",
              "        vertical-align: top;\n",
              "    }\n",
              "\n",
              "    .dataframe thead th {\n",
              "        text-align: right;\n",
              "    }\n",
              "</style>\n",
              "<table border=\"1\" class=\"dataframe\">\n",
              "  <thead>\n",
              "    <tr style=\"text-align: right;\">\n",
              "      <th></th>\n",
              "      <th>image</th>\n",
              "    </tr>\n",
              "  </thead>\n",
              "  <tbody>\n",
              "    <tr>\n",
              "      <th>0</th>\n",
              "      <td>/9j/4AAQSkZJRgABAQAAAQABAAD/2wBDAAoHBwgHBgoICA...</td>\n",
              "    </tr>\n",
              "    <tr>\n",
              "      <th>1</th>\n",
              "      <td>/9j/4AAQSkZJRgABAQAAAQABAAD/2wBDAAoHBwgHBgoICA...</td>\n",
              "    </tr>\n",
              "    <tr>\n",
              "      <th>2</th>\n",
              "      <td>/9j/4AAQSkZJRgABAQAAAQABAAD/2wBDAAoHBwgHBgoICA...</td>\n",
              "    </tr>\n",
              "    <tr>\n",
              "      <th>3</th>\n",
              "      <td>/9j/4AAQSkZJRgABAQAAAQABAAD/2wBDAAoHBwgHBgoICA...</td>\n",
              "    </tr>\n",
              "    <tr>\n",
              "      <th>4</th>\n",
              "      <td>/9j/4AAQSkZJRgABAQAAAQABAAD/2wBDAAoHBwgHBgoICA...</td>\n",
              "    </tr>\n",
              "  </tbody>\n",
              "</table>\n",
              "</div>"
            ],
            "text/plain": [
              "                                               image\n",
              "0  /9j/4AAQSkZJRgABAQAAAQABAAD/2wBDAAoHBwgHBgoICA...\n",
              "1  /9j/4AAQSkZJRgABAQAAAQABAAD/2wBDAAoHBwgHBgoICA...\n",
              "2  /9j/4AAQSkZJRgABAQAAAQABAAD/2wBDAAoHBwgHBgoICA...\n",
              "3  /9j/4AAQSkZJRgABAQAAAQABAAD/2wBDAAoHBwgHBgoICA...\n",
              "4  /9j/4AAQSkZJRgABAQAAAQABAAD/2wBDAAoHBwgHBgoICA..."
            ]
          },
          "metadata": {
            "tags": []
          },
          "execution_count": 36
        }
      ]
    },
    {
      "cell_type": "code",
      "metadata": {
        "id": "FD137GZuyXOa"
      },
      "source": [
        "from PIL import Image\n",
        "import io\n",
        "import matplotlib.pyplot as plt\n",
        "import base64\n",
        "import numpy as np\n",
        "\n",
        "# Take in base64 string and return a numpy image array\n",
        "def stringToRGB(base64_string):\n",
        "    imgdata = base64.b64decode(base64_string)\n",
        "    image = Image.open(io.BytesIO(imgdata))\n",
        "    return np.array(image)"
      ],
      "execution_count": 37,
      "outputs": []
    },
    {
      "cell_type": "code",
      "metadata": {
        "id": "ZTj9AB7eyZ7Z",
        "colab": {
          "base_uri": "https://localhost:8080/",
          "height": 278
        },
        "outputId": "e5ed2ec7-1844-41a2-f7e4-cd007e9535ed"
      },
      "source": [
        "plt.imshow(stringToRGB(df[\"image\"].iloc[0]))"
      ],
      "execution_count": 38,
      "outputs": [
        {
          "output_type": "execute_result",
          "data": {
            "text/plain": [
              "<matplotlib.image.AxesImage at 0x7f5efa40b3c8>"
            ]
          },
          "metadata": {
            "tags": []
          },
          "execution_count": 38
        },
        {
          "output_type": "display_data",
          "data": {
            "image/png": "[encoded data removed]",
            "text/plain": [
              "<Figure size 432x288 with 1 Axes>"
            ]
          },
          "metadata": {
            "tags": [],
            "needs_background": "light"
          }
        }
      ]
    },
    {
      "cell_type": "code",
      "metadata": {
        "id": "HjdKXUcUWUXq",
        "colab": {
          "base_uri": "https://localhost:8080/"
        },
        "outputId": "9ab18c13-afc2-4cef-d8e4-7179fff3adfd"
      },
      "source": [
        "# %%timeit\n",
        "# start_time = time.time()\n",
        "score(df).json()[\"predictions\"][0:5] ## score entire dataset but only show first 5 records\n",
        "# end_time = time.time()\n",
        "# print(end_time - start_time)"
      ],
      "execution_count": 39,
      "outputs": [
        {
          "output_type": "execute_result",
          "data": {
            "text/plain": [
              "[{'cat': 0.466139555, 'dog': 0.533860445},\n",
              " {'cat': 0.4465075135, 'dog': 0.5534924865},\n",
              " {'cat': 0.4246357083, 'dog': 0.5753642917},\n",
              " {'cat': 0.4418278933, 'dog': 0.5581721067},\n",
              " {'cat': 0.4134984016, 'dog': 0.5865015984}]"
            ]
          },
          "metadata": {
            "tags": []
          },
          "execution_count": 39
        }
      ]
    },
    {
      "cell_type": "markdown",
      "metadata": {
        "id": "fezjM5B9Sth5"
      },
      "source": [
        "## If using NGINX\n",
        "\n",
        "You can make concurrent requests to the prediction server\n",
        "\n",
        "Obviously, `--max-workers` should be set.  "
      ]
    },
    {
      "cell_type": "code",
      "metadata": {
        "id": "WfqXghGd-FU3"
      },
      "source": [
        "# from requests_futures.sessions import FuturesSession\n",
        "# from tqdm import notebook\n",
        "# import math\n",
        "# from io import StringIO"
      ],
      "execution_count": 40,
      "outputs": []
    },
    {
      "cell_type": "code",
      "metadata": {
        "id": "X5Ejiu7o-SAC"
      },
      "source": [
        "# concurrency = 10\n",
        "# sample_size = 20\n",
        "# session = FuturesSession(max_workers=concurrency)"
      ],
      "execution_count": 41,
      "outputs": []
    },
    {
      "cell_type": "code",
      "metadata": {
        "id": "2nw2zEja-XK0"
      },
      "source": [
        "# %%timeit\n",
        "# # start_time = time.time()\n",
        "# responses = []\n",
        "# results = []\n",
        "# results_df = pd.DataFrame()\n",
        "\n",
        "# for i in notebook.tqdm(range(math.ceil(len(df)/sample_size))):\n",
        "#     start_index = i * sample_size\n",
        "#     end_index   = start_index + sample_size - 1\n",
        "#     data = df.iloc[start_index:end_index]\n",
        "#     b_buf = BytesIO()\n",
        "#     b_buf.write(data.to_csv(index=False, header=True).encode(\"utf-8\"))\n",
        "#     b_buf.seek(0)  \n",
        "#     url = \"http://localhost:6789/predict/\"\n",
        "#     files = [\n",
        "#       ('X', b_buf)\n",
        "#       # ('X', open('/content/datarobot-user-models/tests/testdata/cats_dogs_small_training.csv', 'rb'))\n",
        "#     ]\n",
        "#     responses.append(session.post(url, files=files))\n",
        "    \n",
        "# for future in notebook.tqdm(responses):\n",
        "#     resp = future.result().json()\n",
        "#     results.append(resp)\n",
        "\n",
        "# # end_time = time.time()\n",
        "# # print(end_time - start_time)"
      ],
      "execution_count": 42,
      "outputs": []
    },
    {
      "cell_type": "code",
      "metadata": {
        "id": "jfKeJboHDBua"
      },
      "source": [
        "# server.terminate()\n",
        "# server.stdout.readlines()"
      ],
      "execution_count": 43,
      "outputs": []
    },
    {
      "cell_type": "code",
      "metadata": {
        "id": "HceiwoVrJHGy",
        "colab": {
          "base_uri": "https://localhost:8080/"
        },
        "outputId": "3f93bffb-9c0b-4569-c45d-6c76ee72d4fc"
      },
      "source": [
        "!sudo service nginx status"
      ],
      "execution_count": 44,
      "outputs": [
        {
          "output_type": "stream",
          "text": [
            " * nginx is not running\n"
          ],
          "name": "stdout"
        }
      ]
    },
    {
      "cell_type": "markdown",
      "metadata": {
        "id": "H80BsBvdWiPh"
      },
      "source": [
        "## Shutdown inference server"
      ]
    },
    {
      "cell_type": "code",
      "metadata": {
        "id": "YY1zG2tAhUrw",
        "colab": {
          "base_uri": "https://localhost:8080/"
        },
        "outputId": "b8ee426e-d14a-45d0-b017-0d6ecfcefcde"
      },
      "source": [
        "## this endpoint is only available for non production server\n",
        "url = \"http://0.0.0.0:1234/shutdown/\"\n",
        "\n",
        "response = requests.request(\"POST\", url)\n",
        "\n",
        "print(response.text.encode('utf8'))"
      ],
      "execution_count": 45,
      "outputs": [
        {
          "output_type": "stream",
          "text": [
            "b'Server shutting down...'\n"
          ],
          "name": "stdout"
        }
      ]
    },
    {
      "cell_type": "code",
      "metadata": {
        "id": "xF_m_Was1cmn",
        "colab": {
          "base_uri": "https://localhost:8080/",
          "height": 34
        },
        "outputId": "509ecc61-019f-41f4-c51c-50b6df3d9c55"
      },
      "source": [
        "## run this if you using nginx\n",
        "# !nginx -s stop"
      ],
      "execution_count": null,
      "outputs": [
        {
          "output_type": "stream",
          "text": [
            "nginx: [error] open() \"/run/nginx.pid\" failed (2: No such file or directory)\n"
          ],
          "name": "stdout"
        }
      ]
    },
    {
      "cell_type": "markdown",
      "metadata": {
        "id": "F_sIji-jleSr"
      },
      "source": [
        "# Adding Monitoring with MLOps Monitoring Agents"
      ]
    },
    {
      "cell_type": "markdown",
      "metadata": {
        "id": "Pvx1IYD7W87N"
      },
      "source": [
        "## DataRobot API Token\n",
        "\n",
        "I keep my api token in a config yaml located in my gdrive.  This will be used to connect to DataRobot and create the external deployment"
      ]
    },
    {
      "cell_type": "code",
      "metadata": {
        "id": "amLUHejmjVDv"
      },
      "source": [
        "from google.colab import drive\n",
        "drive.mount('/content/gdrive')"
      ],
      "execution_count": null,
      "outputs": []
    },
    {
      "cell_type": "code",
      "metadata": {
        "id": "OF2CiqnfjaMR"
      },
      "source": [
        "%cp -av '/content/gdrive/My Drive/agent/config.yaml' /content/"
      ],
      "execution_count": null,
      "outputs": []
    },
    {
      "cell_type": "code",
      "metadata": {
        "id": "fTpxSeXPmNjK"
      },
      "source": [
        "# os.environ[\"MONITOR\"] = \"False\"\n",
        "# os.environ[\"DEPLOYMENT_ID\"] = \"HOLD\"\n",
        "# os.environ[\"MODEL_ID\"] = \"HOLD\"\n",
        "# os.environ[\"MONITOR_SETTINGS\"] = \"spooler_type=filesystem;directory=/tmp/ta;max_files=5;file_max_size=1045876000\""
      ],
      "execution_count": null,
      "outputs": []
    },
    {
      "cell_type": "code",
      "metadata": {
        "id": "baNSjE4FPuBY",
        "colab": {
          "base_uri": "https://localhost:8080/",
          "height": 153
        },
        "outputId": "bdb02e58-bb24-4a7f-ac62-10f1b4fc00d1"
      },
      "source": [
        "# %cp -av ,'/content/gdrive/My Drive/agent/datarobot-mlops-agent-6.2.4-399.tar.gz' /content/\n",
        "# !tar -xf /content/datarobot-mlops-agent-6.2.4-399.tar.gz ##If you have a newer version of the agent, this could be different filename\n",
        "!tar -xvf /content/datarobot-mlops-agent-6.2.4-399.tar.gz > /dev/null ##If you have gz zipped version#\n",
        "%cd /content/datarobot-mlops-agent-6.2.4/\n",
        "!pip install -q lib/datarobot_mlops-6.2.4-py2.py3-none-any.whl ##If you have a newer version of the agent, this could be different filename\n",
        "\n"
      ],
      "execution_count": null,
      "outputs": [
        {
          "output_type": "stream",
          "text": [
            "/content/datarobot-mlops-agent-6.2.4\n",
            "\u001b[K     |████████████████████████████████| 112kB 2.7MB/s \n",
            "\u001b[K     |████████████████████████████████| 133kB 8.3MB/s \n",
            "\u001b[K     |████████████████████████████████| 204kB 7.6MB/s \n",
            "\u001b[K     |████████████████████████████████| 5.9MB 8.0MB/s \n",
            "\u001b[K     |████████████████████████████████| 71kB 8.3MB/s \n",
            "\u001b[K     |████████████████████████████████| 552kB 32.4MB/s \n",
            "\u001b[31mERROR: datascience 0.10.6 has requirement folium==0.2.1, but you'll have folium 0.8.3 which is incompatible.\u001b[0m\n",
            "\u001b[?25h"
          ],
          "name": "stdout"
        }
      ]
    },
    {
      "cell_type": "code",
      "metadata": {
        "id": "FFDdswo0tF5D"
      },
      "source": [
        "import yaml\n",
        "with open(r'/content/gdrive/My Drive/agent/config.yaml') as file:\n",
        "    auth_detail = yaml.load(file)"
      ],
      "execution_count": 10,
      "outputs": []
    },
    {
      "cell_type": "code",
      "metadata": {
        "id": "aHTGfj89cKlF",
        "outputId": "305d9881-1ff1-4339-e333-85ac8e51d43a",
        "colab": {
          "base_uri": "https://localhost:8080/"
        }
      },
      "source": [
        "\n",
        "auth_detail"
      ],
      "execution_count": 11,
      "outputs": [
        {
          "output_type": "execute_result",
          "data": {
            "text/plain": [
              "{'DATAROBOT_API_TOKEN': 'L-KEWy2boF5520IYONK096R-XzHOuVsk',\n",
              " 'DATAROBOT_ENDPOINT': 'https://app.datarobot.com/api/v2',\n",
              " 'DATAROBOT_USERNAME': 'timothy.whittaker@datarobot.com'}"
            ]
          },
          "metadata": {
            "tags": []
          },
          "execution_count": 11
        }
      ]
    },
    {
      "cell_type": "code",
      "metadata": {
        "id": "5Q3mhDG0cIX1"
      },
      "source": [
        "import datarobot as dr\n",
        "token = \"token\"\n",
        "endpoint = \"https://app2.datarobot.com\"\n",
        "## connect to DataRobot platform with python client. \n",
        "client = dr.Client(auth_detail[\"DATAROBOT_API_TOKEN\"], auth_detail[\"DATAROBOT_ENDPOINT\"])\n",
        "mlops_agents_tb = client.get(\"mlopsInstaller\")\n",
        "with open(\"mlops-agent.tar.gz\", \"wb\") as f:\n",
        "    f.write(mlops_agents_tb.content)"
      ],
      "execution_count": 15,
      "outputs": []
    },
    {
      "cell_type": "code",
      "metadata": {
        "id": "naZqW7Hqg0L6"
      },
      "source": [
        "!tar -xf mlops-agent.tar.gz -C ."
      ],
      "execution_count": 18,
      "outputs": []
    },
    {
      "cell_type": "code",
      "metadata": {
        "id": "Fv8sFM-XhGWy"
      },
      "source": [
        "import os\n",
        "agents_path = [f for f in os.listdir() if \"datarobot\" in f].pop()"
      ],
      "execution_count": 21,
      "outputs": []
    },
    {
      "cell_type": "code",
      "metadata": {
        "id": "_EZ7Xuu1hU_K",
        "outputId": "2b80b833-3110-4d28-cf21-17c55ae627ab",
        "colab": {
          "base_uri": "https://localhost:8080/",
          "height": 35
        }
      },
      "source": [
        "agents_path"
      ],
      "execution_count": 22,
      "outputs": [
        {
          "output_type": "execute_result",
          "data": {
            "application/vnd.google.colaboratory.intrinsic+json": {
              "type": "string"
            },
            "text/plain": [
              "'datarobot_mlops_package-7.0.5'"
            ]
          },
          "metadata": {
            "tags": []
          },
          "execution_count": 22
        }
      ]
    },
    {
      "cell_type": "code",
      "metadata": {
        "id": "iXjz4YE5uVsb",
        "colab": {
          "base_uri": "https://localhost:8080/"
        },
        "outputId": "bcd40d7e-7250-47fd-8710-981dc0609d83"
      },
      "source": [
        "with open(os.path.join(agents_path, \"conf/mlops.agent.conf.yaml\")) as file:\n",
        "    documents = yaml.load(file)\n",
        "documents"
      ],
      "execution_count": 24,
      "outputs": [
        {
          "output_type": "execute_result",
          "data": {
            "text/plain": [
              "{'agentMaxAggregatedRecords': 500,\n",
              " 'agentMaxRecordsTask': 100,\n",
              " 'agentPendingRecordsTimeoutMs': 2500,\n",
              " 'agentThreadPoolSize': 4,\n",
              " 'apiToken': 'FILL_IN_HERE',\n",
              " 'channelConfigs': [{'details': {'directory': '/tmp/ta', 'name': 'filesystem'},\n",
              "   'type': 'FS_SPOOL'}],\n",
              " 'dryRun': False,\n",
              " 'httpRetry': 1,\n",
              " 'httpTimeout': 30000,\n",
              " 'logPath': './logs/mlops.agent.log',\n",
              " 'mlopsUrl': 'https://<DATAROBOT_HOST>',\n",
              " 'runOnce': False,\n",
              " 'statsPath': '/tmp/tracking-agent-stats.json',\n",
              " 'verifySSL': True}"
            ]
          },
          "metadata": {
            "tags": []
          },
          "execution_count": 24
        }
      ]
    },
    {
      "cell_type": "code",
      "metadata": {
        "id": "gFxSodjAs6tv"
      },
      "source": [
        "# Set your DR host:\n",
        "documents['mlopsUrl'] = \"https://app.datarobot.com\"\n",
        "# Set your API token\n",
        "documents['apiToken'] = auth_detail[\"DATAROBOT_API_TOKEN\"] \n",
        "with open(os.path.join(agents_path, \"conf/mlops.agent.conf.yaml\"), \"w\") as f:\n",
        "    yaml.dump(documents, f)"
      ],
      "execution_count": 25,
      "outputs": []
    },
    {
      "cell_type": "markdown",
      "metadata": {
        "id": "EAeQP53uAaIt"
      },
      "source": [
        "**bold text**## Create the mlops model deployement in DR"
      ]
    },
    {
      "cell_type": "code",
      "metadata": {
        "id": "2z4iVjYoAxeE"
      },
      "source": [
        "model_info = {\n",
        "        \"name\": \"Cats or Dog Keras model on colab (GPUS)\",\n",
        "        \"modelDescription\": {\n",
        "            \"description\": \"Classification on images as either Cat or Dog\"\n",
        "        },\n",
        "        \"target\": {\n",
        "            \"type\": \"Binary\",\n",
        "            \"name\": \"class\",\n",
        "            \"classNames\": [\"dogs\", \"cats\"],\n",
        "            \"predictionThreshold\": 0.5\n",
        "        }\n",
        "}\n"
      ],
      "execution_count": 26,
      "outputs": []
    },
    {
      "cell_type": "code",
      "metadata": {
        "id": "RtHkzSRP5Syl"
      },
      "source": [
        "TRAINING_DATA = '/content/datarobot-user-models/tests/testdata/cats_dogs_small_training.csv'"
      ],
      "execution_count": 27,
      "outputs": []
    },
    {
      "cell_type": "code",
      "metadata": {
        "id": "pwbPbncJARjT",
        "colab": {
          "base_uri": "https://localhost:8080/",
          "height": 173
        },
        "outputId": "34a344f5-e7fa-4aaa-ac88-53163c3470c5"
      },
      "source": [
        "DEPLOYMENT_NAME=\"Cats or Dog Keras model on colab (GPUS)\"\n",
        "from datarobot.mlops.mlops import MLOps\n",
        "from datarobot.mlops.common.enums import OutputType\n",
        "from datarobot.mlops.connected.client import MLOpsClient\n",
        "from datarobot.mlops.common.exception import DRConnectedException\n",
        "from datarobot.mlops.constants import Constants\n",
        "\n",
        "\n",
        "# Read the mlops connection info from the provided example \n",
        "with open('/content/datarobot-mlops-agent-6.2.4/conf/mlops.agent.conf.yaml') as file:\n",
        "    # The FullLoader parameter handles the conversion from YAML\n",
        "    # scalar values to Python the dictionary format\n",
        "    agent_yaml_dict = yaml.load(file, Loader=yaml.Loader) ##CHANGE##\n",
        "\n",
        "MLOPS_URL = agent_yaml_dict['mlopsUrl']\n",
        "API_TOKEN = agent_yaml_dict['apiToken']\n",
        "\n",
        "# Create connected client\n",
        "mlops_connected_client = MLOpsClient(MLOPS_URL, API_TOKEN)\n",
        "\n",
        "# Add training_data to model configuration\n",
        "print(\"Uploading training data - {}. This may take some time...\".format(TRAINING_DATA))\n",
        "dataset_id = mlops_connected_client.upload_dataset(TRAINING_DATA)\n",
        "print(\"Training dataset uploaded. Catalog ID {}.\".format(dataset_id))\n",
        "model_info[\"datasets\"] = {\"trainingDataCatalogId\": dataset_id}\n",
        "\n",
        "# Create the model package\n",
        "print('Create model package')\n",
        "model_pkg_id = mlops_connected_client.create_model_package(model_info)\n",
        "model_pkg = mlops_connected_client.get_model_package(model_pkg_id)\n",
        "model_id = model_pkg[\"modelId\"]\n",
        "\n",
        "# Deploy the model package\n",
        "print('Deploy model package')\n",
        "deployment_id = mlops_connected_client.deploy_model_package(model_pkg[\"id\"],\n",
        "                                                            DEPLOYMENT_NAME)\n",
        "\n",
        "# Enable data drift tracking\n",
        "print('Enable feature drift')\n",
        "enable_feature_drift = TRAINING_DATA is not None\n",
        "mlops_connected_client.update_deployment_settings(deployment_id, target_drift=True,\n",
        "                                                  feature_drift=enable_feature_drift)\n",
        "_ = mlops_connected_client.get_deployment_settings(deployment_id)\n",
        "\n",
        "print(\"\\nDone.\")\n",
        "print(\"DEPLOYMENT_ID=%s, MODEL_ID=%s\" % (deployment_id, model_id))\n",
        "\n",
        "DEPLOYMENT_ID = deployment_id\n",
        "MODEL_ID = model_id"
      ],
      "execution_count": null,
      "outputs": [
        {
          "output_type": "stream",
          "text": [
            "Uploading training data - /content/datarobot-user-models/tests/testdata/cats_dogs_small_training.csv. This may take some time...\n",
            "Training dataset uploaded. Catalog ID 5f749748835c6d0048962e5e.\n",
            "Create model package\n",
            "Deploy model package\n",
            "Enable feature drift\n",
            "\n",
            "Done.\n",
            "DEPLOYMENT_ID=5f74977bd6e71600517b1a25, MODEL_ID=5f749778d6e716017a38d9b6\n"
          ],
          "name": "stdout"
        }
      ]
    },
    {
      "cell_type": "markdown",
      "metadata": {
        "id": "40QzyN-grAMo"
      },
      "source": [
        "## Set some environment variables for monitoring"
      ]
    },
    {
      "cell_type": "code",
      "metadata": {
        "id": "k7GbA-l8rnAB"
      },
      "source": [
        "import os\n",
        "os.environ[\"MONITOR\"] = \"True\"\n",
        "os.environ[\"DEPLOYMENT_ID\"] = deployment_id\n",
        "os.environ[\"MODEL_ID\"] = model_id\n",
        "os.environ[\"MONITOR_SETTINGS\"] = \"spooler_type=filesystem;directory=/tmp/ta;max_files=5;file_max_size=1045876000\""
      ],
      "execution_count": null,
      "outputs": []
    },
    {
      "cell_type": "markdown",
      "metadata": {
        "id": "wNPjxwRuur94"
      },
      "source": [
        "## Start agents service"
      ]
    },
    {
      "cell_type": "code",
      "metadata": {
        "id": "INpDbKyf7N5d",
        "colab": {
          "base_uri": "https://localhost:8080/",
          "height": 187
        },
        "outputId": "7652b928-dc4c-44b8-912b-f68a07f7ea41"
      },
      "source": [
        "# Start\n",
        "!/content/datarobot-mlops-agent-6.2.4/bin/start-agent.sh"
      ],
      "execution_count": null,
      "outputs": [
        {
          "output_type": "stream",
          "text": [
            "INFO: AGENT_CONFIG_YAML=/content/datarobot-mlops-agent-6.2.4/conf/mlops.agent.conf.yaml\n",
            "INFO: AGENT_LOG_PROPERTIES=/content/datarobot-mlops-agent-6.2.4/conf/mlops.log4j2.properties\n",
            "INFO: AGENT_JVM_OPT=-Xmx1G\n",
            "INFO: AGENT_JAR_PATH=/content/datarobot-mlops-agent-6.2.4/lib/mlops-agent-6.2.4.jar\n",
            "INFO: AGENT_LOG_PATH=/content/datarobot-mlops-agent-6.2.4/logs/mlops.agent.log\n",
            "\n",
            "Starting MLOps-Agent\n",
            "\n",
            "\n",
            "DataRobot MLOps-Agent is running.\n"
          ],
          "name": "stdout"
        }
      ]
    },
    {
      "cell_type": "markdown",
      "metadata": {
        "id": "z6NXoodQqbJt"
      },
      "source": [
        "## Test scoring with drum + Monitoring agents!"
      ]
    },
    {
      "cell_type": "code",
      "metadata": {
        "id": "R2L7wtjzs_kP",
        "colab": {
          "base_uri": "https://localhost:8080/",
          "height": 375
        },
        "outputId": "c8adf40d-c053-4a2f-ca47-6db233456eab"
      },
      "source": [
        "import datarobot as dr\n",
        "client = dr.Client(auth_detail[\"DATAROBOT_API_TOKEN\"], auth_detail[\"DATAROBOT_ENDPOINT\"])\n",
        "deployment = dr.Deployment.get(deployment_id)\n",
        "deployment\n",
        "deployment.get_service_stats()"
      ],
      "execution_count": null,
      "outputs": [
        {
          "output_type": "error",
          "ename": "DataError",
          "evalue": "ignored",
          "traceback": [
            "\u001b[0;31m---------------------------------------------------------------------------\u001b[0m",
            "\u001b[0;31mDataError\u001b[0m                                 Traceback (most recent call last)",
            "\u001b[0;32m<ipython-input-69-093d87b3f60c>\u001b[0m in \u001b[0;36m<module>\u001b[0;34m()\u001b[0m\n\u001b[1;32m      3\u001b[0m \u001b[0mdeployment\u001b[0m \u001b[0;34m=\u001b[0m \u001b[0mdr\u001b[0m\u001b[0;34m.\u001b[0m\u001b[0mDeployment\u001b[0m\u001b[0;34m.\u001b[0m\u001b[0mget\u001b[0m\u001b[0;34m(\u001b[0m\u001b[0mdeployment_id\u001b[0m\u001b[0;34m)\u001b[0m\u001b[0;34m\u001b[0m\u001b[0;34m\u001b[0m\u001b[0m\n\u001b[1;32m      4\u001b[0m \u001b[0mdeployment\u001b[0m\u001b[0;34m\u001b[0m\u001b[0;34m\u001b[0m\u001b[0m\n\u001b[0;32m----> 5\u001b[0;31m \u001b[0mdeployment\u001b[0m\u001b[0;34m.\u001b[0m\u001b[0mget_service_stats\u001b[0m\u001b[0;34m(\u001b[0m\u001b[0;34m)\u001b[0m\u001b[0;34m\u001b[0m\u001b[0;34m\u001b[0m\u001b[0m\n\u001b[0m",
            "\u001b[0;32m/usr/local/lib/python3.6/dist-packages/datarobot/models/deployment.py\u001b[0m in \u001b[0;36mget_service_stats\u001b[0;34m(self, model_id, start_time, end_time, execution_time_quantile, response_time_quantile, slow_requests_threshold)\u001b[0m\n\u001b[1;32m    886\u001b[0m             \u001b[0;34m'slow_requests_threshold'\u001b[0m\u001b[0;34m:\u001b[0m \u001b[0mslow_requests_threshold\u001b[0m\u001b[0;34m,\u001b[0m\u001b[0;34m\u001b[0m\u001b[0;34m\u001b[0m\u001b[0m\n\u001b[1;32m    887\u001b[0m         }\n\u001b[0;32m--> 888\u001b[0;31m         \u001b[0;32mreturn\u001b[0m \u001b[0mServiceStats\u001b[0m\u001b[0;34m.\u001b[0m\u001b[0mget\u001b[0m\u001b[0;34m(\u001b[0m\u001b[0mself\u001b[0m\u001b[0;34m.\u001b[0m\u001b[0mid\u001b[0m\u001b[0;34m,\u001b[0m \u001b[0;34m**\u001b[0m\u001b[0mkwargs\u001b[0m\u001b[0;34m)\u001b[0m\u001b[0;34m\u001b[0m\u001b[0;34m\u001b[0m\u001b[0m\n\u001b[0m\u001b[1;32m    889\u001b[0m \u001b[0;34m\u001b[0m\u001b[0m\n\u001b[1;32m    890\u001b[0m     def get_service_stats_over_time(self, metric=None, model_id=None, start_time=None,\n",
            "\u001b[0;32m/usr/local/lib/python3.6/dist-packages/datarobot/models/service_stats.py\u001b[0m in \u001b[0;36mget\u001b[0;34m(cls, deployment_id, model_id, start_time, end_time, execution_time_quantile, response_time_quantile, slow_requests_threshold)\u001b[0m\n\u001b[1;32m     95\u001b[0m         \u001b[0mdata\u001b[0m \u001b[0;34m=\u001b[0m \u001b[0mfrom_api\u001b[0m\u001b[0;34m(\u001b[0m\u001b[0mdata\u001b[0m\u001b[0;34m,\u001b[0m \u001b[0mkeep_null_keys\u001b[0m\u001b[0;34m=\u001b[0m\u001b[0;32mTrue\u001b[0m\u001b[0;34m)\u001b[0m\u001b[0;34m\u001b[0m\u001b[0;34m\u001b[0m\u001b[0m\n\u001b[1;32m     96\u001b[0m         \u001b[0mdata\u001b[0m\u001b[0;34m[\u001b[0m\u001b[0;34m'metrics'\u001b[0m\u001b[0;34m]\u001b[0m \u001b[0;34m=\u001b[0m \u001b[0mmetrics\u001b[0m\u001b[0;34m\u001b[0m\u001b[0;34m\u001b[0m\u001b[0m\n\u001b[0;32m---> 97\u001b[0;31m         \u001b[0;32mreturn\u001b[0m \u001b[0mcls\u001b[0m\u001b[0;34m.\u001b[0m\u001b[0mfrom_data\u001b[0m\u001b[0;34m(\u001b[0m\u001b[0mdata\u001b[0m\u001b[0;34m)\u001b[0m\u001b[0;34m\u001b[0m\u001b[0;34m\u001b[0m\u001b[0m\n\u001b[0m\u001b[1;32m     98\u001b[0m \u001b[0;34m\u001b[0m\u001b[0m\n\u001b[1;32m     99\u001b[0m \u001b[0;34m\u001b[0m\u001b[0m\n",
            "\u001b[0;32m/usr/local/lib/python3.6/dist-packages/datarobot/models/api_object.py\u001b[0m in \u001b[0;36mfrom_data\u001b[0;34m(cls, data)\u001b[0m\n\u001b[1;32m     16\u001b[0m     \u001b[0;34m@\u001b[0m\u001b[0mclassmethod\u001b[0m\u001b[0;34m\u001b[0m\u001b[0;34m\u001b[0m\u001b[0m\n\u001b[1;32m     17\u001b[0m     \u001b[0;32mdef\u001b[0m \u001b[0mfrom_data\u001b[0m\u001b[0;34m(\u001b[0m\u001b[0mcls\u001b[0m\u001b[0;34m,\u001b[0m \u001b[0mdata\u001b[0m\u001b[0;34m)\u001b[0m\u001b[0;34m:\u001b[0m\u001b[0;34m\u001b[0m\u001b[0;34m\u001b[0m\u001b[0m\n\u001b[0;32m---> 18\u001b[0;31m         \u001b[0mchecked\u001b[0m \u001b[0;34m=\u001b[0m \u001b[0mcls\u001b[0m\u001b[0;34m.\u001b[0m\u001b[0m_converter\u001b[0m\u001b[0;34m.\u001b[0m\u001b[0mcheck\u001b[0m\u001b[0;34m(\u001b[0m\u001b[0mdata\u001b[0m\u001b[0;34m)\u001b[0m\u001b[0;34m\u001b[0m\u001b[0;34m\u001b[0m\u001b[0m\n\u001b[0m\u001b[1;32m     19\u001b[0m         \u001b[0msafe_data\u001b[0m \u001b[0;34m=\u001b[0m \u001b[0mcls\u001b[0m\u001b[0;34m.\u001b[0m\u001b[0m_filter_data\u001b[0m\u001b[0;34m(\u001b[0m\u001b[0mchecked\u001b[0m\u001b[0;34m)\u001b[0m\u001b[0;34m\u001b[0m\u001b[0;34m\u001b[0m\u001b[0m\n\u001b[1;32m     20\u001b[0m         \u001b[0;32mreturn\u001b[0m \u001b[0mcls\u001b[0m\u001b[0;34m(\u001b[0m\u001b[0;34m**\u001b[0m\u001b[0msafe_data\u001b[0m\u001b[0;34m)\u001b[0m\u001b[0;34m\u001b[0m\u001b[0;34m\u001b[0m\u001b[0m\n",
            "\u001b[0;32m/usr/local/lib/python3.6/dist-packages/trafaret/base.py\u001b[0m in \u001b[0;36mcheck\u001b[0;34m(self, value, context)\u001b[0m\n\u001b[1;32m    116\u001b[0m         \"\"\"\n\u001b[1;32m    117\u001b[0m         \u001b[0;32mif\u001b[0m \u001b[0mhasattr\u001b[0m\u001b[0;34m(\u001b[0m\u001b[0mself\u001b[0m\u001b[0;34m,\u001b[0m \u001b[0;34m'transform'\u001b[0m\u001b[0;34m)\u001b[0m\u001b[0;34m:\u001b[0m\u001b[0;34m\u001b[0m\u001b[0;34m\u001b[0m\u001b[0m\n\u001b[0;32m--> 118\u001b[0;31m             \u001b[0;32mreturn\u001b[0m \u001b[0mself\u001b[0m\u001b[0;34m.\u001b[0m\u001b[0mtransform\u001b[0m\u001b[0;34m(\u001b[0m\u001b[0mvalue\u001b[0m\u001b[0;34m,\u001b[0m \u001b[0mcontext\u001b[0m\u001b[0;34m=\u001b[0m\u001b[0mcontext\u001b[0m\u001b[0;34m)\u001b[0m\u001b[0;34m\u001b[0m\u001b[0;34m\u001b[0m\u001b[0m\n\u001b[0m\u001b[1;32m    119\u001b[0m         \u001b[0;32melif\u001b[0m \u001b[0mhasattr\u001b[0m\u001b[0;34m(\u001b[0m\u001b[0mself\u001b[0m\u001b[0;34m,\u001b[0m \u001b[0;34m'check_value'\u001b[0m\u001b[0;34m)\u001b[0m\u001b[0;34m:\u001b[0m\u001b[0;34m\u001b[0m\u001b[0;34m\u001b[0m\u001b[0m\n\u001b[1;32m    120\u001b[0m             \u001b[0mself\u001b[0m\u001b[0;34m.\u001b[0m\u001b[0mcheck_value\u001b[0m\u001b[0;34m(\u001b[0m\u001b[0mvalue\u001b[0m\u001b[0;34m)\u001b[0m\u001b[0;34m\u001b[0m\u001b[0;34m\u001b[0m\u001b[0m\n",
            "\u001b[0;32m/usr/local/lib/python3.6/dist-packages/trafaret/base.py\u001b[0m in \u001b[0;36mtransform\u001b[0;34m(self, value, context)\u001b[0m\n\u001b[1;32m   1016\u001b[0m                         \u001b[0merrors\u001b[0m\u001b[0;34m[\u001b[0m\u001b[0mkey\u001b[0m\u001b[0;34m]\u001b[0m \u001b[0;34m=\u001b[0m \u001b[0mde\u001b[0m\u001b[0;34m\u001b[0m\u001b[0;34m\u001b[0m\u001b[0m\n\u001b[1;32m   1017\u001b[0m         \u001b[0;32mif\u001b[0m \u001b[0merrors\u001b[0m\u001b[0;34m:\u001b[0m\u001b[0;34m\u001b[0m\u001b[0;34m\u001b[0m\u001b[0m\n\u001b[0;32m-> 1018\u001b[0;31m             \u001b[0;32mraise\u001b[0m \u001b[0mDataError\u001b[0m\u001b[0;34m(\u001b[0m\u001b[0merror\u001b[0m\u001b[0;34m=\u001b[0m\u001b[0merrors\u001b[0m\u001b[0;34m,\u001b[0m \u001b[0mtrafaret\u001b[0m\u001b[0;34m=\u001b[0m\u001b[0mself\u001b[0m\u001b[0;34m)\u001b[0m\u001b[0;34m\u001b[0m\u001b[0;34m\u001b[0m\u001b[0m\n\u001b[0m\u001b[1;32m   1019\u001b[0m         \u001b[0;32mreturn\u001b[0m \u001b[0mcollect\u001b[0m\u001b[0;34m\u001b[0m\u001b[0;34m\u001b[0m\u001b[0m\n\u001b[1;32m   1020\u001b[0m \u001b[0;34m\u001b[0m\u001b[0m\n",
            "\u001b[0;31mDataError\u001b[0m: {'metrics': DataError({'executionTime': DataError({'value': DataError({0: DataError(value is not int), 1: DataError(value is not float)})}), 'responseTime': DataError({'value': DataError({0: DataError(value is not int), 1: DataError(value is not float)})})})}"
          ]
        }
      ]
    },
    {
      "cell_type": "code",
      "metadata": {
        "id": "UXIb8xe2vqfX",
        "colab": {
          "base_uri": "https://localhost:8080/",
          "height": 1000
        },
        "outputId": "7d1daca8-3980-4ddd-ee9a-085dd375c344"
      },
      "source": [
        "!drum score --code-dir /content/datarobot-user-models/model_templates/inference/python3_keras_vizai_joblib \\\\\n",
        "--input /content/datarobot-user-models/tests/testdata/cats_dogs_small_training.csv \\\\\n",
        "--positive-class-label dogs --negative-class-label cats --monitor"
      ],
      "execution_count": null,
      "outputs": [
        {
          "output_type": "stream",
          "text": [
            "Using TensorFlow backend.\n",
            "2020-09-30 14:37:39.569268: I tensorflow/stream_executor/platform/default/dso_loader.cc:44] Successfully opened dynamic library libcuda.so.1\n",
            "2020-09-30 14:37:39.573555: I tensorflow/stream_executor/cuda/cuda_gpu_executor.cc:981] successful NUMA node read from SysFS had negative value (-1), but there must be at least one NUMA node, so returning NUMA node zero\n",
            "2020-09-30 14:37:39.574572: I tensorflow/core/common_runtime/gpu/gpu_device.cc:1561] Found device 0 with properties: \n",
            "pciBusID: 0000:00:04.0 name: Tesla K80 computeCapability: 3.7\n",
            "coreClock: 0.8235GHz coreCount: 13 deviceMemorySize: 11.17GiB deviceMemoryBandwidth: 223.96GiB/s\n",
            "2020-09-30 14:37:39.574933: I tensorflow/stream_executor/platform/default/dso_loader.cc:44] Successfully opened dynamic library libcudart.so.10.1\n",
            "2020-09-30 14:37:39.578690: I tensorflow/stream_executor/platform/default/dso_loader.cc:44] Successfully opened dynamic library libcublas.so.10\n",
            "2020-09-30 14:37:39.581958: I tensorflow/stream_executor/platform/default/dso_loader.cc:44] Successfully opened dynamic library libcufft.so.10\n",
            "2020-09-30 14:37:39.582630: I tensorflow/stream_executor/platform/default/dso_loader.cc:44] Successfully opened dynamic library libcurand.so.10\n",
            "2020-09-30 14:37:39.588950: I tensorflow/stream_executor/platform/default/dso_loader.cc:44] Successfully opened dynamic library libcusolver.so.10\n",
            "2020-09-30 14:37:39.600327: I tensorflow/stream_executor/platform/default/dso_loader.cc:44] Successfully opened dynamic library libcusparse.so.10\n",
            "2020-09-30 14:37:39.605155: I tensorflow/stream_executor/platform/default/dso_loader.cc:44] Successfully opened dynamic library libcudnn.so.7\n",
            "2020-09-30 14:37:39.605330: I tensorflow/stream_executor/cuda/cuda_gpu_executor.cc:981] successful NUMA node read from SysFS had negative value (-1), but there must be at least one NUMA node, so returning NUMA node zero\n",
            "2020-09-30 14:37:39.606161: I tensorflow/stream_executor/cuda/cuda_gpu_executor.cc:981] successful NUMA node read from SysFS had negative value (-1), but there must be at least one NUMA node, so returning NUMA node zero\n",
            "2020-09-30 14:37:39.606859: I tensorflow/core/common_runtime/gpu/gpu_device.cc:1703] Adding visible gpu devices: 0\n",
            "2020-09-30 14:37:39.607128: I tensorflow/core/platform/cpu_feature_guard.cc:143] Your CPU supports instructions that this TensorFlow binary was not compiled to use: AVX2 FMA\n",
            "2020-09-30 14:37:39.613581: I tensorflow/core/platform/profile_utils/cpu_utils.cc:102] CPU Frequency: 2199995000 Hz\n",
            "2020-09-30 14:37:39.613835: I tensorflow/compiler/xla/service/service.cc:168] XLA service 0x2cf8bc0 initialized for platform Host (this does not guarantee that XLA will be used). Devices:\n",
            "2020-09-30 14:37:39.613881: I tensorflow/compiler/xla/service/service.cc:176]   StreamExecutor device (0): Host, Default Version\n",
            "2020-09-30 14:37:39.662226: I tensorflow/stream_executor/cuda/cuda_gpu_executor.cc:981] successful NUMA node read from SysFS had negative value (-1), but there must be at least one NUMA node, so returning NUMA node zero\n",
            "2020-09-30 14:37:39.663133: I tensorflow/compiler/xla/service/service.cc:168] XLA service 0x2cf8d80 initialized for platform CUDA (this does not guarantee that XLA will be used). Devices:\n",
            "2020-09-30 14:37:39.663172: I tensorflow/compiler/xla/service/service.cc:176]   StreamExecutor device (0): Tesla K80, Compute Capability 3.7\n",
            "2020-09-30 14:37:39.663498: I tensorflow/stream_executor/cuda/cuda_gpu_executor.cc:981] successful NUMA node read from SysFS had negative value (-1), but there must be at least one NUMA node, so returning NUMA node zero\n",
            "2020-09-30 14:37:39.664226: I tensorflow/core/common_runtime/gpu/gpu_device.cc:1561] Found device 0 with properties: \n",
            "pciBusID: 0000:00:04.0 name: Tesla K80 computeCapability: 3.7\n",
            "coreClock: 0.8235GHz coreCount: 13 deviceMemorySize: 11.17GiB deviceMemoryBandwidth: 223.96GiB/s\n",
            "2020-09-30 14:37:39.664319: I tensorflow/stream_executor/platform/default/dso_loader.cc:44] Successfully opened dynamic library libcudart.so.10.1\n",
            "2020-09-30 14:37:39.664372: I tensorflow/stream_executor/platform/default/dso_loader.cc:44] Successfully opened dynamic library libcublas.so.10\n",
            "2020-09-30 14:37:39.664420: I tensorflow/stream_executor/platform/default/dso_loader.cc:44] Successfully opened dynamic library libcufft.so.10\n",
            "2020-09-30 14:37:39.664463: I tensorflow/stream_executor/platform/default/dso_loader.cc:44] Successfully opened dynamic library libcurand.so.10\n",
            "2020-09-30 14:37:39.664504: I tensorflow/stream_executor/platform/default/dso_loader.cc:44] Successfully opened dynamic library libcusolver.so.10\n",
            "2020-09-30 14:37:39.664544: I tensorflow/stream_executor/platform/default/dso_loader.cc:44] Successfully opened dynamic library libcusparse.so.10\n",
            "2020-09-30 14:37:39.664584: I tensorflow/stream_executor/platform/default/dso_loader.cc:44] Successfully opened dynamic library libcudnn.so.7\n",
            "2020-09-30 14:37:39.664680: I tensorflow/stream_executor/cuda/cuda_gpu_executor.cc:981] successful NUMA node read from SysFS had negative value (-1), but there must be at least one NUMA node, so returning NUMA node zero\n",
            "2020-09-30 14:37:39.665453: I tensorflow/stream_executor/cuda/cuda_gpu_executor.cc:981] successful NUMA node read from SysFS had negative value (-1), but there must be at least one NUMA node, so returning NUMA node zero\n",
            "2020-09-30 14:37:39.666109: I tensorflow/core/common_runtime/gpu/gpu_device.cc:1703] Adding visible gpu devices: 0\n",
            "2020-09-30 14:37:39.666178: I tensorflow/stream_executor/platform/default/dso_loader.cc:44] Successfully opened dynamic library libcudart.so.10.1\n",
            "2020-09-30 14:37:39.667775: I tensorflow/core/common_runtime/gpu/gpu_device.cc:1102] Device interconnect StreamExecutor with strength 1 edge matrix:\n",
            "2020-09-30 14:37:39.667812: I tensorflow/core/common_runtime/gpu/gpu_device.cc:1108]      0 \n",
            "2020-09-30 14:37:39.667830: I tensorflow/core/common_runtime/gpu/gpu_device.cc:1121] 0:   N \n",
            "2020-09-30 14:37:39.667969: I tensorflow/stream_executor/cuda/cuda_gpu_executor.cc:981] successful NUMA node read from SysFS had negative value (-1), but there must be at least one NUMA node, so returning NUMA node zero\n",
            "2020-09-30 14:37:39.668728: I tensorflow/stream_executor/cuda/cuda_gpu_executor.cc:981] successful NUMA node read from SysFS had negative value (-1), but there must be at least one NUMA node, so returning NUMA node zero\n",
            "2020-09-30 14:37:39.669438: W tensorflow/core/common_runtime/gpu/gpu_bfc_allocator.cc:39] Overriding allow_growth setting because the TF_FORCE_GPU_ALLOW_GROWTH environment variable is set. Original config value was 0.\n",
            "2020-09-30 14:37:39.669494: I tensorflow/core/common_runtime/gpu/gpu_device.cc:1247] Created TensorFlow device (/job:localhost/replica:0/task:0/device:GPU:0 with 10553 MB memory) -> physical GPU (device: 0, name: Tesla K80, pci bus id: 0000:00:04.0, compute capability: 3.7)\n",
            "/usr/local/lib/python3.6/dist-packages/keras/engine/saving.py:341: UserWarning: No training configuration found in save file: the model was *not* compiled. Compile it manually.\n",
            "  warnings.warn('No training configuration found in save file: '\n",
            "2020-09-30 14:37:46.620534: I tensorflow/stream_executor/platform/default/dso_loader.cc:44] Successfully opened dynamic library libcudnn.so.7\n",
            "2020-09-30 14:37:47.398780: I tensorflow/stream_executor/platform/default/dso_loader.cc:44] Successfully opened dynamic library libcublas.so.10\n",
            "         dogs      cats\n",
            "0    0.547699  0.452301\n",
            "1    0.509782  0.490218\n",
            "2    0.519927  0.480073\n",
            "3    0.504788  0.495211\n",
            "4    0.442493  0.557507\n",
            "..        ...       ...\n",
            "195  0.499065  0.500935\n",
            "196  0.507409  0.492591\n",
            "197  0.570600  0.429400\n",
            "198  0.484525  0.515475\n",
            "199  0.506164  0.493836\n",
            "\n",
            "[200 rows x 2 columns]\n"
          ],
          "name": "stdout"
        }
      ]
    },
    {
      "cell_type": "code",
      "metadata": {
        "id": "KtHJoWHfrUY8",
        "colab": {
          "base_uri": "https://localhost:8080/",
          "height": 204
        },
        "outputId": "1603b458-8e3d-4d9e-88fa-d744f76cc350"
      },
      "source": [
        "time.sleep(5)\n",
        "service_stats = deployment.get_service_stats()\n",
        "service_stats.metrics"
      ],
      "execution_count": null,
      "outputs": [
        {
          "output_type": "execute_result",
          "data": {
            "text/plain": [
              "{'cacheHitRatio': 0,\n",
              " 'executionTime': 5485.60261726379,\n",
              " 'medianLoad': 0,\n",
              " 'numConsumers': 1,\n",
              " 'peakLoad': 1,\n",
              " 'responseTime': 0,\n",
              " 'serverErrorRate': 0,\n",
              " 'slowRequests': 0,\n",
              " 'totalPredictions': 200,\n",
              " 'totalRequests': 1,\n",
              " 'userErrorRate': 0}"
            ]
          },
          "metadata": {
            "tags": []
          },
          "execution_count": 71
        }
      ]
    },
    {
      "cell_type": "markdown",
      "metadata": {
        "id": "9ZlFHSXu2FJx"
      },
      "source": [
        "## Start the Prediction Server"
      ]
    },
    {
      "cell_type": "code",
      "metadata": {
        "id": "Hs9ByhAz2H0m"
      },
      "source": [
        "server = subprocess.Popen(run_server)"
      ],
      "execution_count": null,
      "outputs": []
    },
    {
      "cell_type": "code",
      "metadata": {
        "id": "gF0clcUl8Qs2"
      },
      "source": [
        "## not necessary to read in data again, but\n",
        "# df = pd.read_csv(\"/content/datarobot-user-models/tests/testdata/boston_housing_inference.csv\")\n",
        "import pandas as pd\n",
        "df = pd.read_csv(\"/content/datarobot-user-models/tests/testdata/cats_dogs_small_training.csv\")"
      ],
      "execution_count": null,
      "outputs": []
    },
    {
      "cell_type": "code",
      "metadata": {
        "id": "MNJz06H37WMP",
        "colab": {
          "base_uri": "https://localhost:8080/",
          "height": 34
        },
        "outputId": "bdd69458-590b-4867-f898-87bf2ba0a176"
      },
      "source": [
        "# status\n",
        "!/content/datarobot-mlops-agent-6.2.4/bin/status-agent.sh"
      ],
      "execution_count": null,
      "outputs": [
        {
          "output_type": "stream",
          "text": [
            "DataRobot MLOps-Agent is running as a service.\n"
          ],
          "name": "stdout"
        }
      ]
    },
    {
      "cell_type": "code",
      "metadata": {
        "id": "uEzVWgO9toSf",
        "colab": {
          "base_uri": "https://localhost:8080/",
          "height": 34
        },
        "outputId": "ae6e04c8-fae6-465d-da81-86ebe1a3ad6a"
      },
      "source": [
        "score(df).json()[\"predictions\"][0:5] "
      ],
      "execution_count": null,
      "outputs": [
        {
          "output_type": "execute_result",
          "data": {
            "text/plain": [
              "[0.5476985574, 0.5097822547, 0.5199275017, 0.504788518, 0.4424930513]"
            ]
          },
          "metadata": {
            "tags": []
          },
          "execution_count": 56
        }
      ]
    },
    {
      "cell_type": "code",
      "metadata": {
        "id": "V5ATJenjtqwZ",
        "colab": {
          "base_uri": "https://localhost:8080/",
          "height": 204
        },
        "outputId": "520f286c-cd63-45b6-9ec6-64991dd1216f"
      },
      "source": [
        "time.sleep(5)\n",
        "service_stats = deployment.get_service_stats()\n",
        "service_stats.metrics"
      ],
      "execution_count": null,
      "outputs": [
        {
          "output_type": "execute_result",
          "data": {
            "text/plain": [
              "{'cacheHitRatio': 0,\n",
              " 'executionTime': 4992.00677871704,\n",
              " 'medianLoad': 0,\n",
              " 'numConsumers': 1,\n",
              " 'peakLoad': 4,\n",
              " 'responseTime': 0,\n",
              " 'serverErrorRate': 0,\n",
              " 'slowRequests': 0,\n",
              " 'totalPredictions': 3200,\n",
              " 'totalRequests': 16,\n",
              " 'userErrorRate': 0}"
            ]
          },
          "metadata": {
            "tags": []
          },
          "execution_count": 57
        }
      ]
    }
  ]
}